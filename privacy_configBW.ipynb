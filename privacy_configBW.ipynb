{
 "cells": [
  {
   "cell_type": "code",
   "execution_count": 4,
   "id": "643d0f2b-8b49-475c-8171-07c4da8335c2",
   "metadata": {},
   "outputs": [],
   "source": [
    "import yaml\n",
    "\n",
    "with open(\"privacy_config.yaml\", \"r\") as file:\n",
    "    privacy_config = yaml.safe_load(file)"
   ]
  },
  {
   "cell_type": "code",
   "execution_count": 5,
   "id": "949e42ac-15b0-4802-9e56-5348b0e15321",
   "metadata": {},
   "outputs": [],
   "source": [
    "import hashlib\n",
    "\n",
    "def hash_value(value, algo='sha256'):\n",
    "    if pd.isna(value):\n",
    "        return value\n",
    "    h = hashlib.new(algo)\n",
    "    h.update(str(value).encode())\n",
    "    return h.hexdigest()\n",
    "\n",
    "def anonymize_dataframe(df, config):\n",
    "    if config[\"anonymization\"][\"hash_identifiers\"]:\n",
    "        fields = config[\"anonymization\"][\"fields_to_hash\"]\n",
    "        algo = config[\"anonymization\"][\"hash_algorithm\"]\n",
    "        for field in fields:\n",
    "            if field in df.columns:\n",
    "                df[field] = df[field].apply(lambda x: hash_value(x, algo))\n",
    "    return df\n"
   ]
  },
  {
   "cell_type": "code",
   "execution_count": 17,
   "id": "84a11e3a-c5fa-4871-9758-e2cc06769f30",
   "metadata": {},
   "outputs": [],
   "source": [
    "def has_access(user_role, config):\n",
    "    if not config[\"access_control\"][\"role_based\"]:\n",
    "        return True\n",
    "    return user_role in config[\"access_control\"][\"allowed_roles\"]\n",
    "\n",
    "\n",
    "\n",
    "    if not has_access(user_role, privacy_config):\n",
    "        raise PermissionError(\"User does not have access to this dataset.\")"
   ]
  },
  {
   "cell_type": "code",
   "execution_count": 9,
   "id": "bebb657f-f829-4d8c-8da2-c129125f58ba",
   "metadata": {},
   "outputs": [],
   "source": [
    "from cryptography.fernet import Fernet\n",
    "\n",
    "# Generate key (should be securely stored, not hardcoded in production)\n",
    "key = Fernet.generate_key()\n",
    "fernet = Fernet(key)\n",
    "\n",
    "def encrypt_column(data, key):\n",
    "    return data.apply(lambda x: fernet.encrypt(str(x).encode()).decode())\n",
    "\n",
    "def decrypt_column(data, key):\n",
    "    return data.apply(lambda x: fernet.decrypt(str(x).encode()).decode())\n",
    "\n",
    "# Example usage\n",
    "# df[\"sensitive_column\"] = encrypt_column(df[\"sensitive_column\"], key)\n"
   ]
  },
  {
   "cell_type": "code",
   "execution_count": 10,
   "id": "bf45ef41-4e31-46e9-904d-4fa5df232bb9",
   "metadata": {},
   "outputs": [
    {
     "name": "stderr",
     "output_type": "stream",
     "text": [
      "INFO:root:Sensitive data logging disabled.\n"
     ]
    }
   ],
   "source": [
    "import logging\n",
    "\n",
    "log_level = privacy_config[\"logging\"][\"level\"].upper()\n",
    "logging.basicConfig(level=log_level)\n",
    "\n",
    "if not privacy_config[\"logging\"][\"log_sensitive_data\"]:\n",
    "    logging.info(\"Sensitive data logging disabled.\")\n"
   ]
  },
  {
   "cell_type": "code",
   "execution_count": 18,
   "id": "cb8a1dfb-e40d-4464-96b4-06b7a59a3514",
   "metadata": {},
   "outputs": [
    {
     "name": "stdout",
     "output_type": "stream",
     "text": [
      "Training...\n"
     ]
    }
   ],
   "source": [
    "import pandas as pd\n",
    "from sklearn.model_selection import train_test_split\n",
    "from sklearn.ensemble import GradientBoostingClassifier\n",
    "df = pd.read_csv('features_del.csv')\n",
    "df = anonymize_dataframe(df, privacy_config)\n",
    "X = df.drop(columns=[\"label\"])\n",
    "y = df[\"label\"]\n",
    "\n",
    "X_train, X_test, y_train, y_test = train_test_split(X, y, test_size=0.2, stratify=y, random_state=42)\n",
    "user_role = \"data_scientist\"\n",
    "if has_access(user_role, privacy_config):\n",
    "    print(\"Training...\")\n",
    "    model = GradientBoostingClassifier(random_state=42)\n",
    "    model.fit(X_train, y_train)\n",
    "\n",
    "# 5. Evaluation\n",
    "    y_pred = model.predict(X_test)\n"
   ]
  },
  {
   "cell_type": "code",
   "execution_count": null,
   "id": "0e47fbfb-d932-446d-a313-099f461b4ca8",
   "metadata": {},
   "outputs": [],
   "source": []
  }
 ],
 "metadata": {
  "kernelspec": {
   "display_name": "Python 3 (ipykernel)",
   "language": "python",
   "name": "python3"
  },
  "language_info": {
   "codemirror_mode": {
    "name": "ipython",
    "version": 3
   },
   "file_extension": ".py",
   "mimetype": "text/x-python",
   "name": "python",
   "nbconvert_exporter": "python",
   "pygments_lexer": "ipython3",
   "version": "3.12.6"
  }
 },
 "nbformat": 4,
 "nbformat_minor": 5
}
